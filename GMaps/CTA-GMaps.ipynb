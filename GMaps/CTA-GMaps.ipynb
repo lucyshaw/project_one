{
 "cells": [
  {
   "cell_type": "code",
   "execution_count": 258,
   "metadata": {},
   "outputs": [],
   "source": [
    "import gmaps\n",
    "import pandas as pd"
   ]
  },
  {
   "cell_type": "code",
   "execution_count": 260,
   "metadata": {
    "scrolled": true
   },
   "outputs": [
    {
     "data": {
      "text/html": [
       "<div>\n",
       "<style scoped>\n",
       "    .dataframe tbody tr th:only-of-type {\n",
       "        vertical-align: middle;\n",
       "    }\n",
       "\n",
       "    .dataframe tbody tr th {\n",
       "        vertical-align: top;\n",
       "    }\n",
       "\n",
       "    .dataframe thead th {\n",
       "        text-align: right;\n",
       "    }\n",
       "</style>\n",
       "<table border=\"1\" class=\"dataframe\">\n",
       "  <thead>\n",
       "    <tr style=\"text-align: right;\">\n",
       "      <th></th>\n",
       "      <th>Unnamed: 0</th>\n",
       "      <th>MAP_ID</th>\n",
       "      <th>stationame</th>\n",
       "      <th>month_beginning</th>\n",
       "      <th>avg_weekday_rides</th>\n",
       "      <th>avg_saturday_rides</th>\n",
       "      <th>avg_sunday-holiday_rides</th>\n",
       "      <th>monthtotal</th>\n",
       "      <th>RED</th>\n",
       "      <th>BLUE</th>\n",
       "      <th>G</th>\n",
       "      <th>BRN</th>\n",
       "      <th>P</th>\n",
       "      <th>Y</th>\n",
       "      <th>Pnk</th>\n",
       "      <th>O</th>\n",
       "      <th>Location</th>\n",
       "    </tr>\n",
       "  </thead>\n",
       "  <tbody>\n",
       "    <tr>\n",
       "      <th>0</th>\n",
       "      <td>0</td>\n",
       "      <td>40900</td>\n",
       "      <td>Howard</td>\n",
       "      <td>01/01/2001</td>\n",
       "      <td>6233.9</td>\n",
       "      <td>3814.5</td>\n",
       "      <td>2408.6</td>\n",
       "      <td>164447</td>\n",
       "      <td>True</td>\n",
       "      <td>False</td>\n",
       "      <td>False</td>\n",
       "      <td>False</td>\n",
       "      <td>False</td>\n",
       "      <td>False</td>\n",
       "      <td>False</td>\n",
       "      <td>False</td>\n",
       "      <td>(42.019063, -87.672892)</td>\n",
       "    </tr>\n",
       "    <tr>\n",
       "      <th>1</th>\n",
       "      <td>1</td>\n",
       "      <td>41190</td>\n",
       "      <td>Jarvis</td>\n",
       "      <td>01/01/2001</td>\n",
       "      <td>1489.1</td>\n",
       "      <td>1054.0</td>\n",
       "      <td>718.0</td>\n",
       "      <td>40567</td>\n",
       "      <td>True</td>\n",
       "      <td>False</td>\n",
       "      <td>False</td>\n",
       "      <td>False</td>\n",
       "      <td>False</td>\n",
       "      <td>False</td>\n",
       "      <td>False</td>\n",
       "      <td>False</td>\n",
       "      <td>(42.015876, -87.669092)</td>\n",
       "    </tr>\n",
       "    <tr>\n",
       "      <th>2</th>\n",
       "      <td>2</td>\n",
       "      <td>40100</td>\n",
       "      <td>Morse</td>\n",
       "      <td>01/01/2001</td>\n",
       "      <td>4412.5</td>\n",
       "      <td>3064.5</td>\n",
       "      <td>2087.8</td>\n",
       "      <td>119772</td>\n",
       "      <td>True</td>\n",
       "      <td>False</td>\n",
       "      <td>False</td>\n",
       "      <td>False</td>\n",
       "      <td>False</td>\n",
       "      <td>False</td>\n",
       "      <td>False</td>\n",
       "      <td>False</td>\n",
       "      <td>(42.008362, -87.665909)</td>\n",
       "    </tr>\n",
       "    <tr>\n",
       "      <th>3</th>\n",
       "      <td>3</td>\n",
       "      <td>41300</td>\n",
       "      <td>Loyola</td>\n",
       "      <td>01/01/2001</td>\n",
       "      <td>4664.5</td>\n",
       "      <td>3156.0</td>\n",
       "      <td>1952.8</td>\n",
       "      <td>125008</td>\n",
       "      <td>True</td>\n",
       "      <td>False</td>\n",
       "      <td>False</td>\n",
       "      <td>False</td>\n",
       "      <td>False</td>\n",
       "      <td>False</td>\n",
       "      <td>False</td>\n",
       "      <td>False</td>\n",
       "      <td>(42.001073, -87.661061)</td>\n",
       "    </tr>\n",
       "    <tr>\n",
       "      <th>4</th>\n",
       "      <td>4</td>\n",
       "      <td>40760</td>\n",
       "      <td>Granville</td>\n",
       "      <td>01/01/2001</td>\n",
       "      <td>3109.8</td>\n",
       "      <td>2126.0</td>\n",
       "      <td>1453.8</td>\n",
       "      <td>84189</td>\n",
       "      <td>True</td>\n",
       "      <td>False</td>\n",
       "      <td>False</td>\n",
       "      <td>False</td>\n",
       "      <td>False</td>\n",
       "      <td>False</td>\n",
       "      <td>False</td>\n",
       "      <td>False</td>\n",
       "      <td>(41.993664, -87.659202)</td>\n",
       "    </tr>\n",
       "  </tbody>\n",
       "</table>\n",
       "</div>"
      ],
      "text/plain": [
       "   Unnamed: 0  MAP_ID stationame month_beginning  avg_weekday_rides  \\\n",
       "0           0   40900     Howard      01/01/2001             6233.9   \n",
       "1           1   41190     Jarvis      01/01/2001             1489.1   \n",
       "2           2   40100      Morse      01/01/2001             4412.5   \n",
       "3           3   41300     Loyola      01/01/2001             4664.5   \n",
       "4           4   40760  Granville      01/01/2001             3109.8   \n",
       "\n",
       "   avg_saturday_rides  avg_sunday-holiday_rides  monthtotal   RED   BLUE  \\\n",
       "0              3814.5                    2408.6      164447  True  False   \n",
       "1              1054.0                     718.0       40567  True  False   \n",
       "2              3064.5                    2087.8      119772  True  False   \n",
       "3              3156.0                    1952.8      125008  True  False   \n",
       "4              2126.0                    1453.8       84189  True  False   \n",
       "\n",
       "       G    BRN      P      Y    Pnk      O                 Location  \n",
       "0  False  False  False  False  False  False  (42.019063, -87.672892)  \n",
       "1  False  False  False  False  False  False  (42.015876, -87.669092)  \n",
       "2  False  False  False  False  False  False  (42.008362, -87.665909)  \n",
       "3  False  False  False  False  False  False  (42.001073, -87.661061)  \n",
       "4  False  False  False  False  False  False  (41.993664, -87.659202)  "
      ]
     },
     "execution_count": 260,
     "metadata": {},
     "output_type": "execute_result"
    }
   ],
   "source": [
    "df = pd.read_csv('newer.csv')\n",
    "df.head()"
   ]
  },
  {
   "cell_type": "code",
   "execution_count": 39,
   "metadata": {},
   "outputs": [],
   "source": [
    "#Create a list for latitude and longitude to be used later with gmaps\n",
    "lat = []\n",
    "lng = []\n",
    "\n",
    "for row in df['Location']:\n",
    "    try:\n",
    "        lat.append(row.split(',')[0])\n",
    "        lng.append(row.split(',')[1])\n",
    "    except:\n",
    "        lat.append(np.NaN)\n",
    "        lng.append(np.NaN)"
   ]
  },
  {
   "cell_type": "code",
   "execution_count": 269,
   "metadata": {},
   "outputs": [
    {
     "data": {
      "text/html": [
       "<div>\n",
       "<style scoped>\n",
       "    .dataframe tbody tr th:only-of-type {\n",
       "        vertical-align: middle;\n",
       "    }\n",
       "\n",
       "    .dataframe tbody tr th {\n",
       "        vertical-align: top;\n",
       "    }\n",
       "\n",
       "    .dataframe thead th {\n",
       "        text-align: right;\n",
       "    }\n",
       "</style>\n",
       "<table border=\"1\" class=\"dataframe\">\n",
       "  <thead>\n",
       "    <tr style=\"text-align: right;\">\n",
       "      <th></th>\n",
       "      <th>Unnamed: 0</th>\n",
       "      <th>MAP_ID</th>\n",
       "      <th>stationame</th>\n",
       "      <th>month_beginning</th>\n",
       "      <th>avg_weekday_rides</th>\n",
       "      <th>avg_saturday_rides</th>\n",
       "      <th>avg_sunday-holiday_rides</th>\n",
       "      <th>monthtotal</th>\n",
       "      <th>RED</th>\n",
       "      <th>BLUE</th>\n",
       "      <th>G</th>\n",
       "      <th>BRN</th>\n",
       "      <th>P</th>\n",
       "      <th>Y</th>\n",
       "      <th>Pnk</th>\n",
       "      <th>O</th>\n",
       "      <th>Location</th>\n",
       "      <th>Latitude</th>\n",
       "      <th>Longitude</th>\n",
       "    </tr>\n",
       "  </thead>\n",
       "  <tbody>\n",
       "    <tr>\n",
       "      <th>0</th>\n",
       "      <td>0</td>\n",
       "      <td>40900</td>\n",
       "      <td>Howard</td>\n",
       "      <td>01/01/2001</td>\n",
       "      <td>6233.9</td>\n",
       "      <td>3814.5</td>\n",
       "      <td>2408.6</td>\n",
       "      <td>164447</td>\n",
       "      <td>True</td>\n",
       "      <td>False</td>\n",
       "      <td>False</td>\n",
       "      <td>False</td>\n",
       "      <td>False</td>\n",
       "      <td>False</td>\n",
       "      <td>False</td>\n",
       "      <td>False</td>\n",
       "      <td>(42.019063, -87.672892)</td>\n",
       "      <td>42.019063</td>\n",
       "      <td>-87.672892</td>\n",
       "    </tr>\n",
       "    <tr>\n",
       "      <th>1</th>\n",
       "      <td>1</td>\n",
       "      <td>41190</td>\n",
       "      <td>Jarvis</td>\n",
       "      <td>01/01/2001</td>\n",
       "      <td>1489.1</td>\n",
       "      <td>1054.0</td>\n",
       "      <td>718.0</td>\n",
       "      <td>40567</td>\n",
       "      <td>True</td>\n",
       "      <td>False</td>\n",
       "      <td>False</td>\n",
       "      <td>False</td>\n",
       "      <td>False</td>\n",
       "      <td>False</td>\n",
       "      <td>False</td>\n",
       "      <td>False</td>\n",
       "      <td>(42.015876, -87.669092)</td>\n",
       "      <td>42.015876</td>\n",
       "      <td>-87.669092</td>\n",
       "    </tr>\n",
       "    <tr>\n",
       "      <th>2</th>\n",
       "      <td>2</td>\n",
       "      <td>40100</td>\n",
       "      <td>Morse</td>\n",
       "      <td>01/01/2001</td>\n",
       "      <td>4412.5</td>\n",
       "      <td>3064.5</td>\n",
       "      <td>2087.8</td>\n",
       "      <td>119772</td>\n",
       "      <td>True</td>\n",
       "      <td>False</td>\n",
       "      <td>False</td>\n",
       "      <td>False</td>\n",
       "      <td>False</td>\n",
       "      <td>False</td>\n",
       "      <td>False</td>\n",
       "      <td>False</td>\n",
       "      <td>(42.008362, -87.665909)</td>\n",
       "      <td>42.008362</td>\n",
       "      <td>-87.665909</td>\n",
       "    </tr>\n",
       "    <tr>\n",
       "      <th>3</th>\n",
       "      <td>3</td>\n",
       "      <td>41300</td>\n",
       "      <td>Loyola</td>\n",
       "      <td>01/01/2001</td>\n",
       "      <td>4664.5</td>\n",
       "      <td>3156.0</td>\n",
       "      <td>1952.8</td>\n",
       "      <td>125008</td>\n",
       "      <td>True</td>\n",
       "      <td>False</td>\n",
       "      <td>False</td>\n",
       "      <td>False</td>\n",
       "      <td>False</td>\n",
       "      <td>False</td>\n",
       "      <td>False</td>\n",
       "      <td>False</td>\n",
       "      <td>(42.001073, -87.661061)</td>\n",
       "      <td>42.001073</td>\n",
       "      <td>-87.661061</td>\n",
       "    </tr>\n",
       "    <tr>\n",
       "      <th>4</th>\n",
       "      <td>4</td>\n",
       "      <td>40760</td>\n",
       "      <td>Granville</td>\n",
       "      <td>01/01/2001</td>\n",
       "      <td>3109.8</td>\n",
       "      <td>2126.0</td>\n",
       "      <td>1453.8</td>\n",
       "      <td>84189</td>\n",
       "      <td>True</td>\n",
       "      <td>False</td>\n",
       "      <td>False</td>\n",
       "      <td>False</td>\n",
       "      <td>False</td>\n",
       "      <td>False</td>\n",
       "      <td>False</td>\n",
       "      <td>False</td>\n",
       "      <td>(41.993664, -87.659202)</td>\n",
       "      <td>41.993664</td>\n",
       "      <td>-87.659202</td>\n",
       "    </tr>\n",
       "  </tbody>\n",
       "</table>\n",
       "</div>"
      ],
      "text/plain": [
       "   Unnamed: 0  MAP_ID stationame month_beginning  avg_weekday_rides  \\\n",
       "0           0   40900     Howard      01/01/2001             6233.9   \n",
       "1           1   41190     Jarvis      01/01/2001             1489.1   \n",
       "2           2   40100      Morse      01/01/2001             4412.5   \n",
       "3           3   41300     Loyola      01/01/2001             4664.5   \n",
       "4           4   40760  Granville      01/01/2001             3109.8   \n",
       "\n",
       "   avg_saturday_rides  avg_sunday-holiday_rides  monthtotal   RED   BLUE  \\\n",
       "0              3814.5                    2408.6      164447  True  False   \n",
       "1              1054.0                     718.0       40567  True  False   \n",
       "2              3064.5                    2087.8      119772  True  False   \n",
       "3              3156.0                    1952.8      125008  True  False   \n",
       "4              2126.0                    1453.8       84189  True  False   \n",
       "\n",
       "       G    BRN      P      Y    Pnk      O                 Location  \\\n",
       "0  False  False  False  False  False  False  (42.019063, -87.672892)   \n",
       "1  False  False  False  False  False  False  (42.015876, -87.669092)   \n",
       "2  False  False  False  False  False  False  (42.008362, -87.665909)   \n",
       "3  False  False  False  False  False  False  (42.001073, -87.661061)   \n",
       "4  False  False  False  False  False  False  (41.993664, -87.659202)   \n",
       "\n",
       "    Latitude    Longitude  \n",
       "0  42.019063   -87.672892  \n",
       "1  42.015876   -87.669092  \n",
       "2  42.008362   -87.665909  \n",
       "3  42.001073   -87.661061  \n",
       "4  41.993664   -87.659202  "
      ]
     },
     "execution_count": 269,
     "metadata": {},
     "output_type": "execute_result"
    }
   ],
   "source": [
    "#Get rid of the () that were carried over from df['Location'] \n",
    "df[\"Latitude\"] = lat\n",
    "df[\"Latitude\"] = df['Latitude'].str.replace('(','')\n",
    "df[\"Longitude\"] = lng\n",
    "df[\"Longitude\"] = df['Longitude'].str.replace(')','')\n",
    "df.head()"
   ]
  },
  {
   "cell_type": "code",
   "execution_count": 271,
   "metadata": {},
   "outputs": [
    {
     "data": {
      "text/html": [
       "<div>\n",
       "<style scoped>\n",
       "    .dataframe tbody tr th:only-of-type {\n",
       "        vertical-align: middle;\n",
       "    }\n",
       "\n",
       "    .dataframe tbody tr th {\n",
       "        vertical-align: top;\n",
       "    }\n",
       "\n",
       "    .dataframe thead th {\n",
       "        text-align: right;\n",
       "    }\n",
       "</style>\n",
       "<table border=\"1\" class=\"dataframe\">\n",
       "  <thead>\n",
       "    <tr style=\"text-align: right;\">\n",
       "      <th></th>\n",
       "      <th>Unnamed: 0</th>\n",
       "      <th>MAP_ID</th>\n",
       "      <th>stationame</th>\n",
       "      <th>month_beginning</th>\n",
       "      <th>avg_weekday_rides</th>\n",
       "      <th>avg_saturday_rides</th>\n",
       "      <th>avg_sunday-holiday_rides</th>\n",
       "      <th>monthtotal</th>\n",
       "      <th>RED</th>\n",
       "      <th>BLUE</th>\n",
       "      <th>G</th>\n",
       "      <th>BRN</th>\n",
       "      <th>P</th>\n",
       "      <th>Y</th>\n",
       "      <th>Pnk</th>\n",
       "      <th>O</th>\n",
       "      <th>Location</th>\n",
       "      <th>Latitude</th>\n",
       "      <th>Longitude</th>\n",
       "    </tr>\n",
       "  </thead>\n",
       "  <tbody>\n",
       "    <tr>\n",
       "      <th>0</th>\n",
       "      <td>0</td>\n",
       "      <td>40900</td>\n",
       "      <td>Howard</td>\n",
       "      <td>01/01/2001</td>\n",
       "      <td>6233.9</td>\n",
       "      <td>3814.5</td>\n",
       "      <td>2408.6</td>\n",
       "      <td>164447</td>\n",
       "      <td>True</td>\n",
       "      <td>False</td>\n",
       "      <td>False</td>\n",
       "      <td>False</td>\n",
       "      <td>False</td>\n",
       "      <td>False</td>\n",
       "      <td>False</td>\n",
       "      <td>False</td>\n",
       "      <td>(42.019063, -87.672892)</td>\n",
       "      <td>42.019063</td>\n",
       "      <td>-87.672892</td>\n",
       "    </tr>\n",
       "    <tr>\n",
       "      <th>1</th>\n",
       "      <td>1</td>\n",
       "      <td>41190</td>\n",
       "      <td>Jarvis</td>\n",
       "      <td>01/01/2001</td>\n",
       "      <td>1489.1</td>\n",
       "      <td>1054.0</td>\n",
       "      <td>718.0</td>\n",
       "      <td>40567</td>\n",
       "      <td>True</td>\n",
       "      <td>False</td>\n",
       "      <td>False</td>\n",
       "      <td>False</td>\n",
       "      <td>False</td>\n",
       "      <td>False</td>\n",
       "      <td>False</td>\n",
       "      <td>False</td>\n",
       "      <td>(42.015876, -87.669092)</td>\n",
       "      <td>42.015876</td>\n",
       "      <td>-87.669092</td>\n",
       "    </tr>\n",
       "    <tr>\n",
       "      <th>2</th>\n",
       "      <td>2</td>\n",
       "      <td>40100</td>\n",
       "      <td>Morse</td>\n",
       "      <td>01/01/2001</td>\n",
       "      <td>4412.5</td>\n",
       "      <td>3064.5</td>\n",
       "      <td>2087.8</td>\n",
       "      <td>119772</td>\n",
       "      <td>True</td>\n",
       "      <td>False</td>\n",
       "      <td>False</td>\n",
       "      <td>False</td>\n",
       "      <td>False</td>\n",
       "      <td>False</td>\n",
       "      <td>False</td>\n",
       "      <td>False</td>\n",
       "      <td>(42.008362, -87.665909)</td>\n",
       "      <td>42.008362</td>\n",
       "      <td>-87.665909</td>\n",
       "    </tr>\n",
       "    <tr>\n",
       "      <th>3</th>\n",
       "      <td>3</td>\n",
       "      <td>41300</td>\n",
       "      <td>Loyola</td>\n",
       "      <td>01/01/2001</td>\n",
       "      <td>4664.5</td>\n",
       "      <td>3156.0</td>\n",
       "      <td>1952.8</td>\n",
       "      <td>125008</td>\n",
       "      <td>True</td>\n",
       "      <td>False</td>\n",
       "      <td>False</td>\n",
       "      <td>False</td>\n",
       "      <td>False</td>\n",
       "      <td>False</td>\n",
       "      <td>False</td>\n",
       "      <td>False</td>\n",
       "      <td>(42.001073, -87.661061)</td>\n",
       "      <td>42.001073</td>\n",
       "      <td>-87.661061</td>\n",
       "    </tr>\n",
       "    <tr>\n",
       "      <th>4</th>\n",
       "      <td>4</td>\n",
       "      <td>40760</td>\n",
       "      <td>Granville</td>\n",
       "      <td>01/01/2001</td>\n",
       "      <td>3109.8</td>\n",
       "      <td>2126.0</td>\n",
       "      <td>1453.8</td>\n",
       "      <td>84189</td>\n",
       "      <td>True</td>\n",
       "      <td>False</td>\n",
       "      <td>False</td>\n",
       "      <td>False</td>\n",
       "      <td>False</td>\n",
       "      <td>False</td>\n",
       "      <td>False</td>\n",
       "      <td>False</td>\n",
       "      <td>(41.993664, -87.659202)</td>\n",
       "      <td>41.993664</td>\n",
       "      <td>-87.659202</td>\n",
       "    </tr>\n",
       "  </tbody>\n",
       "</table>\n",
       "</div>"
      ],
      "text/plain": [
       "   Unnamed: 0  MAP_ID stationame month_beginning  avg_weekday_rides  \\\n",
       "0           0   40900     Howard      01/01/2001             6233.9   \n",
       "1           1   41190     Jarvis      01/01/2001             1489.1   \n",
       "2           2   40100      Morse      01/01/2001             4412.5   \n",
       "3           3   41300     Loyola      01/01/2001             4664.5   \n",
       "4           4   40760  Granville      01/01/2001             3109.8   \n",
       "\n",
       "   avg_saturday_rides  avg_sunday-holiday_rides  monthtotal   RED   BLUE  \\\n",
       "0              3814.5                    2408.6      164447  True  False   \n",
       "1              1054.0                     718.0       40567  True  False   \n",
       "2              3064.5                    2087.8      119772  True  False   \n",
       "3              3156.0                    1952.8      125008  True  False   \n",
       "4              2126.0                    1453.8       84189  True  False   \n",
       "\n",
       "       G    BRN      P      Y    Pnk      O                 Location  \\\n",
       "0  False  False  False  False  False  False  (42.019063, -87.672892)   \n",
       "1  False  False  False  False  False  False  (42.015876, -87.669092)   \n",
       "2  False  False  False  False  False  False  (42.008362, -87.665909)   \n",
       "3  False  False  False  False  False  False  (42.001073, -87.661061)   \n",
       "4  False  False  False  False  False  False  (41.993664, -87.659202)   \n",
       "\n",
       "    Latitude    Longitude  \n",
       "0  42.019063   -87.672892  \n",
       "1  42.015876   -87.669092  \n",
       "2  42.008362   -87.665909  \n",
       "3  42.001073   -87.661061  \n",
       "4  41.993664   -87.659202  "
      ]
     },
     "execution_count": 271,
     "metadata": {},
     "output_type": "execute_result"
    }
   ],
   "source": [
    "#Create separate dataframes for each train line\n",
    "red_line = pd.DataFrame()\n",
    "blue_line = pd.DataFrame()\n",
    "orange_line = pd.DataFrame()\n",
    "purple_line = pd.DataFrame()\n",
    "\n",
    "red_line = df.loc[df['RED']==True]\n",
    "blue_line = df.loc[df['BLUE']==True]\n",
    "orange_line = df.loc[df['O']==True]\n",
    "purple_line = df.loc[df['P']==True]\n",
    "\n",
    "red_line.head()"
   ]
  },
  {
   "cell_type": "code",
   "execution_count": 272,
   "metadata": {
    "scrolled": true
   },
   "outputs": [],
   "source": [
    "#Create three Series for each train line with 'stationame' as the index along with 'monthtotal', ... \n",
    "# ... 'Latitude', and 'Longitude' as the corresponding variables\n",
    "red_sums = red_line.groupby('stationame')['monthtotal'].sum()\n",
    "red_lat = red_line.groupby('stationame')['Latitude'].unique()\n",
    "red_long = red_line.groupby('stationame')['Longitude'].unique()\n",
    "\n",
    "blue_sums = blue_line.groupby('stationame')['monthtotal'].sum()\n",
    "blue_lat = blue_line.groupby('stationame')['Latitude'].unique()\n",
    "blue_long = blue_line.groupby('stationame')['Longitude'].unique()\n",
    "\n",
    "orange_sums = orange_line.groupby('stationame')['monthtotal'].sum()\n",
    "orange_lat = orange_line.groupby('stationame')['Latitude'].unique()\n",
    "orange_long = orange_line.groupby('stationame')['Longitude'].unique()\n",
    "\n",
    "purple_sums = purple_line.groupby('stationame')['monthtotal'].sum()\n",
    "purple_lat = purple_line.groupby('stationame')['Latitude'].unique()\n",
    "purple_long = purple_line.groupby('stationame')['Longitude'].unique()"
   ]
  },
  {
   "cell_type": "code",
   "execution_count": 282,
   "metadata": {
    "scrolled": true
   },
   "outputs": [
    {
     "data": {
      "text/html": [
       "<div>\n",
       "<style scoped>\n",
       "    .dataframe tbody tr th:only-of-type {\n",
       "        vertical-align: middle;\n",
       "    }\n",
       "\n",
       "    .dataframe tbody tr th {\n",
       "        vertical-align: top;\n",
       "    }\n",
       "\n",
       "    .dataframe thead th {\n",
       "        text-align: right;\n",
       "    }\n",
       "</style>\n",
       "<table border=\"1\" class=\"dataframe\">\n",
       "  <thead>\n",
       "    <tr style=\"text-align: right;\">\n",
       "      <th></th>\n",
       "      <th>monthtotal</th>\n",
       "      <th>Latitude</th>\n",
       "      <th>Longitude</th>\n",
       "    </tr>\n",
       "    <tr>\n",
       "      <th>stationame</th>\n",
       "      <th></th>\n",
       "      <th></th>\n",
       "      <th></th>\n",
       "    </tr>\n",
       "  </thead>\n",
       "  <tbody>\n",
       "    <tr>\n",
       "      <th>47th-Dan Ryan</th>\n",
       "      <td>16946699</td>\n",
       "      <td>41.810318</td>\n",
       "      <td>-87.630940</td>\n",
       "    </tr>\n",
       "    <tr>\n",
       "      <th>63rd-Dan Ryan</th>\n",
       "      <td>18759373</td>\n",
       "      <td>41.780536</td>\n",
       "      <td>-87.630952</td>\n",
       "    </tr>\n",
       "    <tr>\n",
       "      <th>69th</th>\n",
       "      <td>32561699</td>\n",
       "      <td>41.768367</td>\n",
       "      <td>-87.625724</td>\n",
       "    </tr>\n",
       "    <tr>\n",
       "      <th>79th</th>\n",
       "      <td>41860567</td>\n",
       "      <td>41.750419</td>\n",
       "      <td>-87.625112</td>\n",
       "    </tr>\n",
       "    <tr>\n",
       "      <th>87th</th>\n",
       "      <td>26745218</td>\n",
       "      <td>41.735372</td>\n",
       "      <td>-87.624717</td>\n",
       "    </tr>\n",
       "  </tbody>\n",
       "</table>\n",
       "</div>"
      ],
      "text/plain": [
       "               monthtotal   Latitude  Longitude\n",
       "stationame                                     \n",
       "47th-Dan Ryan    16946699  41.810318 -87.630940\n",
       "63rd-Dan Ryan    18759373  41.780536 -87.630952\n",
       "69th             32561699  41.768367 -87.625724\n",
       "79th             41860567  41.750419 -87.625112\n",
       "87th             26745218  41.735372 -87.624717"
      ]
     },
     "execution_count": 282,
     "metadata": {},
     "output_type": "execute_result"
    }
   ],
   "source": [
    "#For each Series trio, concatenate all three together into a DataFrame and set the 'Latitude' ...\n",
    "# ... and Longitude as floats\n",
    "red_chart = pd.concat([red_sums, red_lat, red_long], axis=1)\n",
    "red_chart['Latitude'] = red_chart['Latitude'].astype(float)\n",
    "red_chart['Longitude'] = red_chart['Longitude'].astype(float)\n",
    "\n",
    "blue_chart = pd.concat([blue_sums, blue_lat, blue_long], axis=1)\n",
    "blue_chart['Latitude'] = blue_chart['Latitude'].astype(float)\n",
    "blue_chart['Longitude'] = blue_chart['Longitude'].astype(float)\n",
    "\n",
    "orange_chart = pd.concat([orange_sums, orange_lat, orange_long], axis=1)\n",
    "orange_chart['Latitude'] = orange_chart['Latitude'].astype(float)\n",
    "orange_chart['Longitude'] = orange_chart['Longitude'].astype(float)\n",
    "\n",
    "purple_chart = pd.concat([purple_sums, purple_lat, purple_long], axis=1)\n",
    "purple_chart['Latitude'] = purple_chart['Latitude'].astype(float)\n",
    "purple_chart['Longitude'] = purple_chart['Longitude'].astype(float)\n",
    "\n",
    "red_chart.head()"
   ]
  },
  {
   "cell_type": "code",
   "execution_count": 274,
   "metadata": {},
   "outputs": [],
   "source": [
    "#Set the 'monthtotal' Series as a list for use in the gmaps\n",
    "red_totals = red_chart['monthtotal'].tolist()\n",
    "blue_totals = blue_chart['monthtotal'].tolist()\n",
    "orange_totals = orange_chart['monthtotal'].tolist()\n",
    "purple_totals = purple_chart['monthtotal'].tolist()"
   ]
  },
  {
   "cell_type": "code",
   "execution_count": 287,
   "metadata": {},
   "outputs": [
    {
     "data": {
      "application/vnd.jupyter.widget-view+json": {
       "model_id": "90713070c97a44f2b487c171fa05424a",
       "version_major": 2,
       "version_minor": 0
      },
      "text/plain": [
       "Figure(layout=FigureLayout(height='420px'))"
      ]
     },
     "metadata": {},
     "output_type": "display_data"
    }
   ],
   "source": [
    "#Map of Chicago's transit lines\n",
    "fig = gmaps.figure(center=(41.8781, -87.6298), zoom_level=11)\n",
    "fig.add_layer(gmaps.transit_layer())\n",
    "fig"
   ]
  },
  {
   "cell_type": "code",
   "execution_count": 288,
   "metadata": {},
   "outputs": [
    {
     "data": {
      "application/vnd.jupyter.widget-view+json": {
       "model_id": "31abdf54e9c6436e829d8f5c08f4c07d",
       "version_major": 2,
       "version_minor": 0
      },
      "text/plain": [
       "Figure(layout=FigureLayout(height='420px'))"
      ]
     },
     "metadata": {},
     "output_type": "display_data"
    }
   ],
   "source": [
    "#Red Line Heat Map\n",
    "marker_locations = red_chart[['Latitude', 'Longitude']]\n",
    "fig = gmaps.figure()\n",
    "heat_layer = gmaps.heatmap_layer(marker_locations, weights=red_totals,\n",
    "                                dissipating=False, max_intensity=max(red_totals),\n",
    "                                point_radius=0.0045)\n",
    "\n",
    "heat_layer.dissipating = False\n",
    "heat_layer.max_intensity = max(red_totals)\n",
    "heat_layer.point_radius = 0.0045\n",
    "\n",
    "fig.add_layer(heat_layer)\n",
    "fig"
   ]
  },
  {
   "cell_type": "code",
   "execution_count": 295,
   "metadata": {},
   "outputs": [
    {
     "data": {
      "text/html": [
       "<div>\n",
       "<style scoped>\n",
       "    .dataframe tbody tr th:only-of-type {\n",
       "        vertical-align: middle;\n",
       "    }\n",
       "\n",
       "    .dataframe tbody tr th {\n",
       "        vertical-align: top;\n",
       "    }\n",
       "\n",
       "    .dataframe thead th {\n",
       "        text-align: right;\n",
       "    }\n",
       "</style>\n",
       "<table border=\"1\" class=\"dataframe\">\n",
       "  <thead>\n",
       "    <tr style=\"text-align: right;\">\n",
       "      <th></th>\n",
       "      <th>monthtotal</th>\n",
       "      <th>Latitude</th>\n",
       "      <th>Longitude</th>\n",
       "    </tr>\n",
       "    <tr>\n",
       "      <th>stationame</th>\n",
       "      <th></th>\n",
       "      <th></th>\n",
       "      <th></th>\n",
       "    </tr>\n",
       "  </thead>\n",
       "  <tbody>\n",
       "    <tr>\n",
       "      <th>Lake/State</th>\n",
       "      <td>89415316</td>\n",
       "      <td>41.884809</td>\n",
       "      <td>-87.627813</td>\n",
       "    </tr>\n",
       "    <tr>\n",
       "      <th>Chicago/State</th>\n",
       "      <td>84027079</td>\n",
       "      <td>41.896671</td>\n",
       "      <td>-87.628176</td>\n",
       "    </tr>\n",
       "    <tr>\n",
       "      <th>95th/Dan Ryan</th>\n",
       "      <td>68605107</td>\n",
       "      <td>41.722377</td>\n",
       "      <td>-87.624342</td>\n",
       "    </tr>\n",
       "  </tbody>\n",
       "</table>\n",
       "</div>"
      ],
      "text/plain": [
       "               monthtotal   Latitude  Longitude\n",
       "stationame                                     \n",
       "Lake/State       89415316  41.884809 -87.627813\n",
       "Chicago/State    84027079  41.896671 -87.628176\n",
       "95th/Dan Ryan    68605107  41.722377 -87.624342"
      ]
     },
     "execution_count": 295,
     "metadata": {},
     "output_type": "execute_result"
    }
   ],
   "source": [
    "#Most/least popular Red lines\n",
    "red_popular = red_chart.nlargest(3, 'monthtotal')\n",
    "red_popular"
   ]
  },
  {
   "cell_type": "code",
   "execution_count": 319,
   "metadata": {},
   "outputs": [
    {
     "data": {
      "application/vnd.jupyter.widget-view+json": {
       "model_id": "81e6b90404154564a4fe4e37c039b887",
       "version_major": 2,
       "version_minor": 0
      },
      "text/plain": [
       "Figure(layout=FigureLayout(height='420px'))"
      ]
     },
     "metadata": {},
     "output_type": "display_data"
    }
   ],
   "source": [
    "#Red Line Most Popular Stops\n",
    "marker_locations = red_chart[['Latitude', 'Longitude']]\n",
    "popular_marker_locations = red_popular[['Latitude', 'Longitude']]\n",
    "fig = gmaps.figure()\n",
    "markers = gmaps.marker_layer(popular_marker_locations)\n",
    "heat_layer = gmaps.heatmap_layer(marker_locations, weights=red_totals,\n",
    "                                dissipating=False, max_intensity=max(purple_totals),\n",
    "                                point_radius=0.0035)\n",
    "\n",
    "heat_layer.dissipating = False\n",
    "heat_layer.max_intensity = max(red_totals)\n",
    "heat_layer.point_radius = 0.0035\n",
    "\n",
    "fig.add_layer(heat_layer)\n",
    "fig.add_layer(markers)\n",
    "fig"
   ]
  },
  {
   "cell_type": "code",
   "execution_count": 329,
   "metadata": {},
   "outputs": [
    {
     "data": {
      "text/html": [
       "<div>\n",
       "<style scoped>\n",
       "    .dataframe tbody tr th:only-of-type {\n",
       "        vertical-align: middle;\n",
       "    }\n",
       "\n",
       "    .dataframe tbody tr th {\n",
       "        vertical-align: top;\n",
       "    }\n",
       "\n",
       "    .dataframe thead th {\n",
       "        text-align: right;\n",
       "    }\n",
       "</style>\n",
       "<table border=\"1\" class=\"dataframe\">\n",
       "  <thead>\n",
       "    <tr style=\"text-align: right;\">\n",
       "      <th></th>\n",
       "      <th>monthtotal</th>\n",
       "      <th>Latitude</th>\n",
       "      <th>Longitude</th>\n",
       "    </tr>\n",
       "    <tr>\n",
       "      <th>stationame</th>\n",
       "      <th></th>\n",
       "      <th></th>\n",
       "      <th></th>\n",
       "    </tr>\n",
       "  </thead>\n",
       "  <tbody>\n",
       "    <tr>\n",
       "      <th>Jarvis</th>\n",
       "      <td>8731055</td>\n",
       "      <td>42.015876</td>\n",
       "      <td>-87.669092</td>\n",
       "    </tr>\n",
       "    <tr>\n",
       "      <th>Argyle</th>\n",
       "      <td>16177202</td>\n",
       "      <td>41.973453</td>\n",
       "      <td>-87.658530</td>\n",
       "    </tr>\n",
       "    <tr>\n",
       "      <th>Thorndale</th>\n",
       "      <td>16402783</td>\n",
       "      <td>41.990259</td>\n",
       "      <td>-87.659076</td>\n",
       "    </tr>\n",
       "  </tbody>\n",
       "</table>\n",
       "</div>"
      ],
      "text/plain": [
       "            monthtotal   Latitude  Longitude\n",
       "stationame                                  \n",
       "Jarvis         8731055  42.015876 -87.669092\n",
       "Argyle        16177202  41.973453 -87.658530\n",
       "Thorndale     16402783  41.990259 -87.659076"
      ]
     },
     "execution_count": 329,
     "metadata": {},
     "output_type": "execute_result"
    }
   ],
   "source": [
    "red_least_popular = red_chart.nsmallest(3, 'monthtotal')\n",
    "red_least_popular"
   ]
  },
  {
   "cell_type": "code",
   "execution_count": 320,
   "metadata": {},
   "outputs": [
    {
     "data": {
      "application/vnd.jupyter.widget-view+json": {
       "model_id": "63ab3c2a09dc4455a7eed1a28d5fdab3",
       "version_major": 2,
       "version_minor": 0
      },
      "text/plain": [
       "Figure(layout=FigureLayout(height='420px'))"
      ]
     },
     "metadata": {},
     "output_type": "display_data"
    }
   ],
   "source": [
    "#Red Line Least Popular Stops\n",
    "marker_locations = red_chart[['Latitude', 'Longitude']]\n",
    "popular_marker_locations = red_least_popular[['Latitude', 'Longitude']]\n",
    "fig = gmaps.figure()\n",
    "markers = gmaps.marker_layer(popular_marker_locations)\n",
    "heat_layer = gmaps.heatmap_layer(marker_locations, weights=red_totals,\n",
    "                                dissipating=False, max_intensity=max(purple_totals),\n",
    "                                point_radius=0.0035)\n",
    "\n",
    "heat_layer.dissipating = False\n",
    "heat_layer.max_intensity = max(red_totals)\n",
    "heat_layer.point_radius = 0.0035\n",
    "\n",
    "fig.add_layer(heat_layer)\n",
    "fig.add_layer(markers)\n",
    "fig"
   ]
  },
  {
   "cell_type": "code",
   "execution_count": 277,
   "metadata": {},
   "outputs": [
    {
     "data": {
      "application/vnd.jupyter.widget-view+json": {
       "model_id": "4966da8b62184f2eb4642ec65e7c003c",
       "version_major": 2,
       "version_minor": 0
      },
      "text/plain": [
       "Figure(layout=FigureLayout(height='420px'))"
      ]
     },
     "metadata": {},
     "output_type": "display_data"
    }
   ],
   "source": [
    "#Blue Line Heat Map\n",
    "marker_locations = blue_chart[['Latitude', 'Longitude']]\n",
    "fig = gmaps.figure()\n",
    "heat_layer = gmaps.heatmap_layer(marker_locations, weights=blue_totals,\n",
    "                                dissipating=False, max_intensity=max(blue_totals),\n",
    "                                point_radius=0.005)\n",
    "\n",
    "heat_layer.dissipating = False\n",
    "heat_layer.max_intensity = max(blue_totals)\n",
    "heat_layer.point_radius = 0.005\n",
    "\n",
    "fig.add_layer(heat_layer)\n",
    "fig"
   ]
  },
  {
   "cell_type": "code",
   "execution_count": 296,
   "metadata": {},
   "outputs": [
    {
     "data": {
      "text/html": [
       "<div>\n",
       "<style scoped>\n",
       "    .dataframe tbody tr th:only-of-type {\n",
       "        vertical-align: middle;\n",
       "    }\n",
       "\n",
       "    .dataframe tbody tr th {\n",
       "        vertical-align: top;\n",
       "    }\n",
       "\n",
       "    .dataframe thead th {\n",
       "        text-align: right;\n",
       "    }\n",
       "</style>\n",
       "<table border=\"1\" class=\"dataframe\">\n",
       "  <thead>\n",
       "    <tr style=\"text-align: right;\">\n",
       "      <th></th>\n",
       "      <th>monthtotal</th>\n",
       "      <th>Latitude</th>\n",
       "      <th>Longitude</th>\n",
       "    </tr>\n",
       "    <tr>\n",
       "      <th>stationame</th>\n",
       "      <th></th>\n",
       "      <th></th>\n",
       "      <th></th>\n",
       "    </tr>\n",
       "  </thead>\n",
       "  <tbody>\n",
       "    <tr>\n",
       "      <th>O'Hare Airport</th>\n",
       "      <td>59339719</td>\n",
       "      <td>41.977665</td>\n",
       "      <td>-87.904223</td>\n",
       "    </tr>\n",
       "    <tr>\n",
       "      <th>Washington/Dearborn</th>\n",
       "      <td>50931844</td>\n",
       "      <td>41.883164</td>\n",
       "      <td>-87.629440</td>\n",
       "    </tr>\n",
       "    <tr>\n",
       "      <th>Jackson/Dearborn</th>\n",
       "      <td>39005028</td>\n",
       "      <td>41.878183</td>\n",
       "      <td>-87.629296</td>\n",
       "    </tr>\n",
       "  </tbody>\n",
       "</table>\n",
       "</div>"
      ],
      "text/plain": [
       "                     monthtotal   Latitude  Longitude\n",
       "stationame                                           \n",
       "O'Hare Airport         59339719  41.977665 -87.904223\n",
       "Washington/Dearborn    50931844  41.883164 -87.629440\n",
       "Jackson/Dearborn       39005028  41.878183 -87.629296"
      ]
     },
     "execution_count": 296,
     "metadata": {},
     "output_type": "execute_result"
    }
   ],
   "source": [
    "#Most/least popular Blue lines\n",
    "blue_popular = blue_chart.nlargest(3, 'monthtotal')\n",
    "blue_popular"
   ]
  },
  {
   "cell_type": "code",
   "execution_count": 321,
   "metadata": {},
   "outputs": [
    {
     "data": {
      "application/vnd.jupyter.widget-view+json": {
       "model_id": "f9a5ac0fb82940a4b0a9770902911250",
       "version_major": 2,
       "version_minor": 0
      },
      "text/plain": [
       "Figure(layout=FigureLayout(height='420px'))"
      ]
     },
     "metadata": {},
     "output_type": "display_data"
    }
   ],
   "source": [
    "#Blue Line Most Popular Stops\n",
    "marker_locations = blue_chart[['Latitude', 'Longitude']]\n",
    "popular_marker_locations = blue_popular[['Latitude', 'Longitude']]\n",
    "fig = gmaps.figure()\n",
    "markers = gmaps.marker_layer(popular_marker_locations)\n",
    "heat_layer = gmaps.heatmap_layer(marker_locations, weights=blue_totals,\n",
    "                                dissipating=False, max_intensity=max(blue_totals),\n",
    "                                point_radius=0.0035)\n",
    "\n",
    "heat_layer.dissipating = False\n",
    "heat_layer.max_intensity = max(blue_totals)\n",
    "heat_layer.point_radius = 0.0035\n",
    "\n",
    "fig.add_layer(heat_layer)\n",
    "fig.add_layer(markers)\n",
    "fig"
   ]
  },
  {
   "cell_type": "code",
   "execution_count": 328,
   "metadata": {},
   "outputs": [
    {
     "data": {
      "text/html": [
       "<div>\n",
       "<style scoped>\n",
       "    .dataframe tbody tr th:only-of-type {\n",
       "        vertical-align: middle;\n",
       "    }\n",
       "\n",
       "    .dataframe tbody tr th {\n",
       "        vertical-align: top;\n",
       "    }\n",
       "\n",
       "    .dataframe thead th {\n",
       "        text-align: right;\n",
       "    }\n",
       "</style>\n",
       "<table border=\"1\" class=\"dataframe\">\n",
       "  <thead>\n",
       "    <tr style=\"text-align: right;\">\n",
       "      <th></th>\n",
       "      <th>monthtotal</th>\n",
       "      <th>Latitude</th>\n",
       "      <th>Longitude</th>\n",
       "    </tr>\n",
       "    <tr>\n",
       "      <th>stationame</th>\n",
       "      <th></th>\n",
       "      <th></th>\n",
       "      <th></th>\n",
       "    </tr>\n",
       "  </thead>\n",
       "  <tbody>\n",
       "    <tr>\n",
       "      <th>Harlem-Forest Park</th>\n",
       "      <td>5560539</td>\n",
       "      <td>41.873490</td>\n",
       "      <td>-87.806961</td>\n",
       "    </tr>\n",
       "    <tr>\n",
       "      <th>Cicero-Forest Park</th>\n",
       "      <td>7071073</td>\n",
       "      <td>41.871574</td>\n",
       "      <td>-87.745154</td>\n",
       "    </tr>\n",
       "    <tr>\n",
       "      <th>Western-Forest Park</th>\n",
       "      <td>7895890</td>\n",
       "      <td>41.875478</td>\n",
       "      <td>-87.688436</td>\n",
       "    </tr>\n",
       "  </tbody>\n",
       "</table>\n",
       "</div>"
      ],
      "text/plain": [
       "                     monthtotal   Latitude  Longitude\n",
       "stationame                                           \n",
       "Harlem-Forest Park      5560539  41.873490 -87.806961\n",
       "Cicero-Forest Park      7071073  41.871574 -87.745154\n",
       "Western-Forest Park     7895890  41.875478 -87.688436"
      ]
     },
     "execution_count": 328,
     "metadata": {},
     "output_type": "execute_result"
    }
   ],
   "source": [
    "blue_least_popular = blue_chart.nsmallest(3, 'monthtotal')\n",
    "blue_least_popular"
   ]
  },
  {
   "cell_type": "code",
   "execution_count": 322,
   "metadata": {},
   "outputs": [
    {
     "data": {
      "application/vnd.jupyter.widget-view+json": {
       "model_id": "4560df32be2b4ade894bdebaa06c048e",
       "version_major": 2,
       "version_minor": 0
      },
      "text/plain": [
       "Figure(layout=FigureLayout(height='420px'))"
      ]
     },
     "metadata": {},
     "output_type": "display_data"
    }
   ],
   "source": [
    "#Blue Line Least Popular Stops\n",
    "marker_locations = blue_chart[['Latitude', 'Longitude']]\n",
    "popular_marker_locations = blue_least_popular[['Latitude', 'Longitude']]\n",
    "fig = gmaps.figure()\n",
    "markers = gmaps.marker_layer(popular_marker_locations)\n",
    "heat_layer = gmaps.heatmap_layer(marker_locations, weights=blue_totals,\n",
    "                                dissipating=False, max_intensity=max(blue_totals),\n",
    "                                point_radius=0.0035)\n",
    "\n",
    "heat_layer.dissipating = False\n",
    "heat_layer.max_intensity = max(blue_totals)\n",
    "heat_layer.point_radius = 0.0035\n",
    "\n",
    "fig.add_layer(heat_layer)\n",
    "fig.add_layer(markers)\n",
    "fig"
   ]
  },
  {
   "cell_type": "code",
   "execution_count": 285,
   "metadata": {},
   "outputs": [
    {
     "data": {
      "application/vnd.jupyter.widget-view+json": {
       "model_id": "f44c819c3bff47e59214c30a680cdd22",
       "version_major": 2,
       "version_minor": 0
      },
      "text/plain": [
       "Figure(layout=FigureLayout(height='420px'))"
      ]
     },
     "metadata": {},
     "output_type": "display_data"
    }
   ],
   "source": [
    "#Orange Line Heat Map    \n",
    "marker_locations = orange_chart[['Latitude', 'Longitude']]\n",
    "fig = gmaps.figure()\n",
    "heat_layer = gmaps.heatmap_layer(marker_locations, weights=orange_totals,\n",
    "                                dissipating=False, max_intensity=max(orange_totals),\n",
    "                                point_radius=0.0035)\n",
    "\n",
    "heat_layer.dissipating = False\n",
    "heat_layer.max_intensity = max(orange_totals)\n",
    "heat_layer.point_radius = 0.0035\n",
    "\n",
    "fig.add_layer(heat_layer)\n",
    "fig"
   ]
  },
  {
   "cell_type": "code",
   "execution_count": 297,
   "metadata": {},
   "outputs": [
    {
     "data": {
      "text/html": [
       "<div>\n",
       "<style scoped>\n",
       "    .dataframe tbody tr th:only-of-type {\n",
       "        vertical-align: middle;\n",
       "    }\n",
       "\n",
       "    .dataframe tbody tr th {\n",
       "        vertical-align: top;\n",
       "    }\n",
       "\n",
       "    .dataframe thead th {\n",
       "        text-align: right;\n",
       "    }\n",
       "</style>\n",
       "<table border=\"1\" class=\"dataframe\">\n",
       "  <thead>\n",
       "    <tr style=\"text-align: right;\">\n",
       "      <th></th>\n",
       "      <th>monthtotal</th>\n",
       "      <th>Latitude</th>\n",
       "      <th>Longitude</th>\n",
       "    </tr>\n",
       "    <tr>\n",
       "      <th>stationame</th>\n",
       "      <th></th>\n",
       "      <th></th>\n",
       "      <th></th>\n",
       "    </tr>\n",
       "  </thead>\n",
       "  <tbody>\n",
       "    <tr>\n",
       "      <th>Clark/Lake</th>\n",
       "      <td>90434433</td>\n",
       "      <td>41.885737</td>\n",
       "      <td>-87.630886</td>\n",
       "    </tr>\n",
       "    <tr>\n",
       "      <th>Roosevelt</th>\n",
       "      <td>55083272</td>\n",
       "      <td>41.867405</td>\n",
       "      <td>-87.626590</td>\n",
       "    </tr>\n",
       "    <tr>\n",
       "      <th>Midway Airport</th>\n",
       "      <td>47568200</td>\n",
       "      <td>41.786610</td>\n",
       "      <td>-87.737875</td>\n",
       "    </tr>\n",
       "  </tbody>\n",
       "</table>\n",
       "</div>"
      ],
      "text/plain": [
       "                monthtotal   Latitude  Longitude\n",
       "stationame                                      \n",
       "Clark/Lake        90434433  41.885737 -87.630886\n",
       "Roosevelt         55083272  41.867405 -87.626590\n",
       "Midway Airport    47568200  41.786610 -87.737875"
      ]
     },
     "execution_count": 297,
     "metadata": {},
     "output_type": "execute_result"
    }
   ],
   "source": [
    "#Most popular Orange lines\n",
    "orange_popular = orange_chart.nlargest(3, 'monthtotal')\n",
    "orange_popular"
   ]
  },
  {
   "cell_type": "code",
   "execution_count": 323,
   "metadata": {},
   "outputs": [
    {
     "data": {
      "application/vnd.jupyter.widget-view+json": {
       "model_id": "3588c653386c4496876a0781c13611f9",
       "version_major": 2,
       "version_minor": 0
      },
      "text/plain": [
       "Figure(layout=FigureLayout(height='420px'))"
      ]
     },
     "metadata": {},
     "output_type": "display_data"
    }
   ],
   "source": [
    "#Orange Line Most Popular Stops\n",
    "marker_locations = orange_chart[['Latitude', 'Longitude']]\n",
    "popular_marker_locations = orange_popular[['Latitude', 'Longitude']]\n",
    "fig = gmaps.figure()\n",
    "markers = gmaps.marker_layer(popular_marker_locations)\n",
    "heat_layer = gmaps.heatmap_layer(marker_locations, weights=orange_totals,\n",
    "                                dissipating=False, max_intensity=max(orange_totals),\n",
    "                                point_radius=0.0035)\n",
    "\n",
    "heat_layer.dissipating = False\n",
    "heat_layer.max_intensity = max(orange_totals)\n",
    "heat_layer.point_radius = 0.0035\n",
    "\n",
    "fig.add_layer(heat_layer)\n",
    "fig.add_layer(markers)\n",
    "fig"
   ]
  },
  {
   "cell_type": "code",
   "execution_count": 327,
   "metadata": {},
   "outputs": [
    {
     "data": {
      "text/html": [
       "<div>\n",
       "<style scoped>\n",
       "    .dataframe tbody tr th:only-of-type {\n",
       "        vertical-align: middle;\n",
       "    }\n",
       "\n",
       "    .dataframe tbody tr th {\n",
       "        vertical-align: top;\n",
       "    }\n",
       "\n",
       "    .dataframe thead th {\n",
       "        text-align: right;\n",
       "    }\n",
       "</style>\n",
       "<table border=\"1\" class=\"dataframe\">\n",
       "  <thead>\n",
       "    <tr style=\"text-align: right;\">\n",
       "      <th></th>\n",
       "      <th>monthtotal</th>\n",
       "      <th>Latitude</th>\n",
       "      <th>Longitude</th>\n",
       "    </tr>\n",
       "    <tr>\n",
       "      <th>stationame</th>\n",
       "      <th></th>\n",
       "      <th></th>\n",
       "      <th></th>\n",
       "    </tr>\n",
       "  </thead>\n",
       "  <tbody>\n",
       "    <tr>\n",
       "      <th>Ashland-Orange</th>\n",
       "      <td>8217101</td>\n",
       "      <td>41.839234</td>\n",
       "      <td>-87.665317</td>\n",
       "    </tr>\n",
       "    <tr>\n",
       "      <th>Halsted-Orange</th>\n",
       "      <td>13706230</td>\n",
       "      <td>41.846780</td>\n",
       "      <td>-87.648088</td>\n",
       "    </tr>\n",
       "    <tr>\n",
       "      <th>35th/Archer</th>\n",
       "      <td>14609429</td>\n",
       "      <td>41.829353</td>\n",
       "      <td>-87.680622</td>\n",
       "    </tr>\n",
       "  </tbody>\n",
       "</table>\n",
       "</div>"
      ],
      "text/plain": [
       "                monthtotal   Latitude  Longitude\n",
       "stationame                                      \n",
       "Ashland-Orange     8217101  41.839234 -87.665317\n",
       "Halsted-Orange    13706230  41.846780 -87.648088\n",
       "35th/Archer       14609429  41.829353 -87.680622"
      ]
     },
     "execution_count": 327,
     "metadata": {},
     "output_type": "execute_result"
    }
   ],
   "source": [
    "orange_least_popular = orange_chart.nsmallest(3, 'monthtotal')\n",
    "orange_least_popular"
   ]
  },
  {
   "cell_type": "code",
   "execution_count": 324,
   "metadata": {},
   "outputs": [
    {
     "data": {
      "application/vnd.jupyter.widget-view+json": {
       "model_id": "3be062c4a08240bfa975e9ca1397f493",
       "version_major": 2,
       "version_minor": 0
      },
      "text/plain": [
       "Figure(layout=FigureLayout(height='420px'))"
      ]
     },
     "metadata": {},
     "output_type": "display_data"
    }
   ],
   "source": [
    "#Orange Line Least Popular Stops\n",
    "marker_locations = orange_chart[['Latitude', 'Longitude']]\n",
    "popular_marker_locations = orange_least_popular[['Latitude', 'Longitude']]\n",
    "fig = gmaps.figure()\n",
    "markers = gmaps.marker_layer(popular_marker_locations)\n",
    "heat_layer = gmaps.heatmap_layer(marker_locations, weights=orange_totals,\n",
    "                                dissipating=False, max_intensity=max(orange_totals),\n",
    "                                point_radius=0.0035)\n",
    "\n",
    "heat_layer.dissipating = False\n",
    "heat_layer.max_intensity = max(orange_totals)\n",
    "heat_layer.point_radius = 0.0035\n",
    "\n",
    "fig.add_layer(heat_layer)\n",
    "fig.add_layer(markers)\n",
    "fig"
   ]
  },
  {
   "cell_type": "code",
   "execution_count": 284,
   "metadata": {},
   "outputs": [
    {
     "data": {
      "application/vnd.jupyter.widget-view+json": {
       "model_id": "cdeb2a9d45c643449df55a4a1f539889",
       "version_major": 2,
       "version_minor": 0
      },
      "text/plain": [
       "Figure(layout=FigureLayout(height='420px'))"
      ]
     },
     "metadata": {},
     "output_type": "display_data"
    }
   ],
   "source": [
    "#Purple Line Heat Map\n",
    "marker_locations = purple_chart[['Latitude', 'Longitude']]\n",
    "fig = gmaps.figure()\n",
    "markers = gmaps.marker_layer(marker_locations)\n",
    "heat_layer = gmaps.heatmap_layer(marker_locations, weights=purple_totals,\n",
    "                                dissipating=False, max_intensity=max(purple_totals),\n",
    "                                point_radius=0.0035)\n",
    "\n",
    "heat_layer.dissipating = False\n",
    "heat_layer.max_intensity = max(purple_totals)\n",
    "heat_layer.point_radius = 0.0035\n",
    "\n",
    "fig.add_layer(heat_layer)\n",
    "fig"
   ]
  },
  {
   "cell_type": "code",
   "execution_count": 304,
   "metadata": {},
   "outputs": [
    {
     "data": {
      "text/html": [
       "<div>\n",
       "<style scoped>\n",
       "    .dataframe tbody tr th:only-of-type {\n",
       "        vertical-align: middle;\n",
       "    }\n",
       "\n",
       "    .dataframe tbody tr th {\n",
       "        vertical-align: top;\n",
       "    }\n",
       "\n",
       "    .dataframe thead th {\n",
       "        text-align: right;\n",
       "    }\n",
       "</style>\n",
       "<table border=\"1\" class=\"dataframe\">\n",
       "  <thead>\n",
       "    <tr style=\"text-align: right;\">\n",
       "      <th></th>\n",
       "      <th>monthtotal</th>\n",
       "      <th>Latitude</th>\n",
       "      <th>Longitude</th>\n",
       "    </tr>\n",
       "    <tr>\n",
       "      <th>stationame</th>\n",
       "      <th></th>\n",
       "      <th></th>\n",
       "      <th></th>\n",
       "    </tr>\n",
       "  </thead>\n",
       "  <tbody>\n",
       "    <tr>\n",
       "      <th>Davis</th>\n",
       "      <td>21479288</td>\n",
       "      <td>42.047710</td>\n",
       "      <td>-87.683543</td>\n",
       "    </tr>\n",
       "    <tr>\n",
       "      <th>Main</th>\n",
       "      <td>6702921</td>\n",
       "      <td>42.033456</td>\n",
       "      <td>-87.679538</td>\n",
       "    </tr>\n",
       "    <tr>\n",
       "      <th>Linden</th>\n",
       "      <td>5826225</td>\n",
       "      <td>42.073153</td>\n",
       "      <td>-87.690730</td>\n",
       "    </tr>\n",
       "  </tbody>\n",
       "</table>\n",
       "</div>"
      ],
      "text/plain": [
       "            monthtotal   Latitude  Longitude\n",
       "stationame                                  \n",
       "Davis         21479288  42.047710 -87.683543\n",
       "Main           6702921  42.033456 -87.679538\n",
       "Linden         5826225  42.073153 -87.690730"
      ]
     },
     "execution_count": 304,
     "metadata": {},
     "output_type": "execute_result"
    }
   ],
   "source": [
    "#Most/least popular Purple lines\n",
    "purple_popular = purple_chart.nlargest(3, 'monthtotal')\n",
    "purple_popular"
   ]
  },
  {
   "cell_type": "code",
   "execution_count": 313,
   "metadata": {},
   "outputs": [
    {
     "data": {
      "application/vnd.jupyter.widget-view+json": {
       "model_id": "0fcee06acfdd4f2e8e1db416ccf2b282",
       "version_major": 2,
       "version_minor": 0
      },
      "text/plain": [
       "Figure(layout=FigureLayout(height='420px'))"
      ]
     },
     "metadata": {},
     "output_type": "display_data"
    }
   ],
   "source": [
    "#Purple Line Most Popular Stops\n",
    "marker_locations = purple_chart[['Latitude', 'Longitude']]\n",
    "popular_marker_locations = purple_popular[['Latitude', 'Longitude']]\n",
    "fig = gmaps.figure()\n",
    "markers = gmaps.marker_layer(popular_marker_locations)\n",
    "heat_layer = gmaps.heatmap_layer(marker_locations, weights=purple_totals,\n",
    "                                dissipating=False, max_intensity=max(purple_totals),\n",
    "                                point_radius=0.0035)\n",
    "\n",
    "heat_layer.dissipating = False\n",
    "heat_layer.max_intensity = max(purple_totals)\n",
    "heat_layer.point_radius = 0.0035\n",
    "\n",
    "fig.add_layer(heat_layer)\n",
    "fig.add_layer(markers)\n",
    "fig"
   ]
  },
  {
   "cell_type": "code",
   "execution_count": 330,
   "metadata": {},
   "outputs": [
    {
     "data": {
      "text/html": [
       "<div>\n",
       "<style scoped>\n",
       "    .dataframe tbody tr th:only-of-type {\n",
       "        vertical-align: middle;\n",
       "    }\n",
       "\n",
       "    .dataframe tbody tr th {\n",
       "        vertical-align: top;\n",
       "    }\n",
       "\n",
       "    .dataframe thead th {\n",
       "        text-align: right;\n",
       "    }\n",
       "</style>\n",
       "<table border=\"1\" class=\"dataframe\">\n",
       "  <thead>\n",
       "    <tr style=\"text-align: right;\">\n",
       "      <th></th>\n",
       "      <th>monthtotal</th>\n",
       "      <th>Latitude</th>\n",
       "      <th>Longitude</th>\n",
       "    </tr>\n",
       "    <tr>\n",
       "      <th>stationame</th>\n",
       "      <th></th>\n",
       "      <th></th>\n",
       "      <th></th>\n",
       "    </tr>\n",
       "  </thead>\n",
       "  <tbody>\n",
       "    <tr>\n",
       "      <th>Noyes</th>\n",
       "      <td>4007590</td>\n",
       "      <td>42.058282</td>\n",
       "      <td>-87.683337</td>\n",
       "    </tr>\n",
       "    <tr>\n",
       "      <th>South Boulevard</th>\n",
       "      <td>4267170</td>\n",
       "      <td>42.027612</td>\n",
       "      <td>-87.678329</td>\n",
       "    </tr>\n",
       "    <tr>\n",
       "      <th>Foster</th>\n",
       "      <td>4332917</td>\n",
       "      <td>42.054160</td>\n",
       "      <td>-87.683560</td>\n",
       "    </tr>\n",
       "  </tbody>\n",
       "</table>\n",
       "</div>"
      ],
      "text/plain": [
       "                 monthtotal   Latitude  Longitude\n",
       "stationame                                       \n",
       "Noyes               4007590  42.058282 -87.683337\n",
       "South Boulevard     4267170  42.027612 -87.678329\n",
       "Foster              4332917  42.054160 -87.683560"
      ]
     },
     "execution_count": 330,
     "metadata": {},
     "output_type": "execute_result"
    }
   ],
   "source": [
    "purple_least_popular = purple_chart.nsmallest(3, 'monthtotal')\n",
    "purple_least_popular"
   ]
  },
  {
   "cell_type": "code",
   "execution_count": 314,
   "metadata": {},
   "outputs": [
    {
     "data": {
      "application/vnd.jupyter.widget-view+json": {
       "model_id": "366fa2d27a4a40c09aac45e219f6e854",
       "version_major": 2,
       "version_minor": 0
      },
      "text/plain": [
       "Figure(layout=FigureLayout(height='420px'))"
      ]
     },
     "metadata": {},
     "output_type": "display_data"
    }
   ],
   "source": [
    "#Purple Line Least Popular Stops\n",
    "marker_locations = purple_chart[['Latitude', 'Longitude']]\n",
    "popular_marker_locations = purple_least_popular[['Latitude', 'Longitude']]\n",
    "fig = gmaps.figure()\n",
    "markers = gmaps.marker_layer(popular_marker_locations)\n",
    "heat_layer = gmaps.heatmap_layer(marker_locations, weights=purple_totals,\n",
    "                                dissipating=False, max_intensity=max(purple_totals),\n",
    "                                point_radius=0.0035)\n",
    "\n",
    "heat_layer.dissipating = False\n",
    "heat_layer.max_intensity = max(purple_totals)\n",
    "heat_layer.point_radius = 0.0035\n",
    "\n",
    "fig.add_layer(heat_layer)\n",
    "fig.add_layer(markers)\n",
    "fig"
   ]
  }
 ],
 "metadata": {
  "kernelspec": {
   "display_name": "Python 3",
   "language": "python",
   "name": "python3"
  },
  "language_info": {
   "codemirror_mode": {
    "name": "ipython",
    "version": 3
   },
   "file_extension": ".py",
   "mimetype": "text/x-python",
   "name": "python",
   "nbconvert_exporter": "python",
   "pygments_lexer": "ipython3",
   "version": "3.7.0"
  }
 },
 "nbformat": 4,
 "nbformat_minor": 2
}
